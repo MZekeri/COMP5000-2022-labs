{
 "cells": [
  {
   "cell_type": "markdown",
   "id": "27c360bf",
   "metadata": {},
   "source": [
    "# Computer Lab Exercises week 3  SOLUTIONS"
   ]
  },
  {
   "cell_type": "markdown",
   "id": "f94dac47",
   "metadata": {},
   "source": [
    "* These lab exercises are designed to introduce the basic sy\n",
    "* A screencast on downloading jupyter notebooks from the online store.\n",
    "https://youtu.be/1zY7hIj5tWg\n",
    "* These exercises are **not** part of the assessment of the Module.\n",
    "* I will post the solutions roughly 1 week after this file has been uploaded to the DLE.\n",
    "* Please first watch and work through the linkedin learning video\n",
    "* Please note that pasting python from pdf can sometimes cause problems. For example quotation marks can sometimes be converted incorrectly, so then running python will cause errors.\n",
    "\n",
    "* See https://sites.google.com/view/pythonforstemstudents/home for a collection\n",
    "of links to information on python.\n"
   ]
  },
  {
   "cell_type": "markdown",
   "id": "17bfb91f",
   "metadata": {},
   "source": [
    "## Question 1a\n",
    "* Use a string method (https://www.w3schools.com/python/python_ref_string.asp) to replace Student in the string below with the name John.\n"
   ]
  },
  {
   "cell_type": "code",
   "execution_count": 1,
   "id": "2be1cf08",
   "metadata": {},
   "outputs": [
    {
     "name": "stdout",
     "output_type": "stream",
     "text": [
      "Dear Student\n",
      "Dear John\n"
     ]
    }
   ],
   "source": [
    "in_string = \"Dear Student\"\n",
    "print(in_string)\n",
    "\n",
    "out_string = in_string.replace(\"Student\", \"John\")\n",
    "print(out_string)"
   ]
  },
  {
   "cell_type": "markdown",
   "id": "4efd7d1e",
   "metadata": {},
   "source": [
    "##  Question 2a\n",
    "The code in the cell below counts the number oof negative numbers in a list. Write a python function **count_negative** that can be called like:\n",
    "\n",
    "```python\n",
    "xxx = [2, 3, -1, 5, -10, 199] \n",
    "number_neg = count_negative(xxx)\n",
    "print(\"Number of negative numbers = \" , number_neg )\n",
    "```\n"
   ]
  },
  {
   "cell_type": "code",
   "execution_count": 2,
   "id": "f9ff23bb",
   "metadata": {},
   "outputs": [
    {
     "name": "stdout",
     "output_type": "stream",
     "text": [
      "Number of negative numbers =  2\n"
     ]
    }
   ],
   "source": [
    "xxx = [2, 3, -1, 5, -10, 199] \n",
    "number_neg = 0 \n",
    "for x in xxx :\n",
    "    if x < 0 :\n",
    "        number_neg += 1\n",
    "        \n",
    "print(\"Number of negative numbers = \" , number_neg )\n"
   ]
  },
  {
   "cell_type": "code",
   "execution_count": 3,
   "id": "627a3a0d",
   "metadata": {},
   "outputs": [
    {
     "name": "stdout",
     "output_type": "stream",
     "text": [
      "Number of negative numbers =  2\n"
     ]
    }
   ],
   "source": [
    "#  Put your solution here\n",
    "def count_negative(xxx) :\n",
    "    number_neg = 0\n",
    "    for x in xxx :\n",
    "        if x < 0 :\n",
    "            number_neg += 1\n",
    "    return number_neg\n",
    "\n",
    "xx = [2, 3, -1, 5, -10, 199] \n",
    "number_neg = count_negative(xx)\n",
    "print(\"Number of negative numbers = \" , number_neg )\n",
    "            "
   ]
  },
  {
   "cell_type": "markdown",
   "id": "176a4e76",
   "metadata": {},
   "source": [
    "## Question 2b  functions\n",
    "A students mark is made from the sum of four courseworks. Each individual coursework has a mark between 0 and 25\n",
    "\n",
    "* The exercise is create a simple python function to simplify (reduce the amount of repetition) the code below\n",
    "* Some information on functions  https://www.w3schools.com/python/python_functions.asp"
   ]
  },
  {
   "cell_type": "code",
   "execution_count": 4,
   "id": "44ccadc7",
   "metadata": {},
   "outputs": [
    {
     "name": "stdout",
     "output_type": "stream",
     "text": [
      "Input coursework 1  20\n",
      "Input coursework 2  10\n",
      "Input coursework 3  20\n",
      "Input coursework 4  0\n",
      "Your total mark =  50\n"
     ]
    }
   ],
   "source": [
    "m1 = int(input(\"Input coursework 1  \"))\n",
    "if m1 < 0 or m1 > 25 :\n",
    "    print(\"Error with mark 1\")\n",
    "m2 = int(input(\"Input coursework 2  \"))\n",
    "if m2 < 0 or m2 > 25 :\n",
    "    print(\"Error with mark 2\")\n",
    "m3 = int(input(\"Input coursework 3  \"))\n",
    "if m3 < 0 or m3 > 25 :\n",
    "    print(\"Error with mark 3\")\n",
    "m4 = int(input(\"Input coursework 4  \"))\n",
    "if m4 < 0 or m4 > 25 :\n",
    "    print(\"Error with mark 4\")\n",
    "total = m1 + m2 + m3 + m4\n",
    "print(\"Your total mark = \" , total)"
   ]
  },
  {
   "cell_type": "markdown",
   "id": "8e9f6ce2",
   "metadata": {},
   "source": [
    "###  Note\n",
    "* The code below was my first attempt. I put all the code to read numbers into the function **get_input**\n",
    "* Any modifications to the code to read numbers in are isolated in the function **get_input**\n",
    "* The code is a bit shorter than the original"
   ]
  },
  {
   "cell_type": "code",
   "execution_count": 7,
   "id": "561a5007",
   "metadata": {},
   "outputs": [
    {
     "name": "stdout",
     "output_type": "stream",
     "text": [
      "Input coursework 1 20\n",
      "Input coursework 2 20\n",
      "Input coursework 3 20\n",
      "Input coursework 4 20\n",
      "Your total mark =  80\n"
     ]
    }
   ],
   "source": [
    "# Put your solution here\n",
    "def get_input(cw):\n",
    "    m = int(input(\"Input coursework \" + cw + \" \"))\n",
    "    if m < 0 or m > 25 :\n",
    "         print(\"Error with mark \" + cw)\n",
    "    return m\n",
    "\n",
    "m1 = get_input(\"1\")\n",
    "m2 = get_input(\"2\")\n",
    "m3 = get_input(\"3\")\n",
    "m4 = get_input(\"4\")\n",
    "\n",
    "total = m1 + m2 + m3 + m4\n",
    "print(\"Your total mark = \" , total)\n"
   ]
  },
  {
   "cell_type": "markdown",
   "id": "41598693",
   "metadata": {},
   "source": [
    "We can simplify the code a bit more"
   ]
  },
  {
   "cell_type": "code",
   "execution_count": 5,
   "id": "089512be",
   "metadata": {},
   "outputs": [
    {
     "name": "stdout",
     "output_type": "stream",
     "text": [
      "Input coursework 0 5\n",
      "Input coursework 1 6\n",
      "Input coursework 2 4\n",
      "Input coursework 3 5\n",
      "Your total mark =  20\n"
     ]
    }
   ],
   "source": [
    "def get_input(cw):\n",
    "    m = int(input(\"Input coursework \" + cw + \" \"))\n",
    "    if m < 0 or m > 25 :\n",
    "         print(\"Error with mark \" + cw)\n",
    "    return m\n",
    "\n",
    "mm = []\n",
    "for i in range(0,4):\n",
    "   mm.append(get_input(str(i)))\n",
    "\n",
    "total = sum(mm)\n",
    "print(\"Your total mark = \" , total)"
   ]
  },
  {
   "cell_type": "markdown",
   "id": "d65eaf4b",
   "metadata": {},
   "source": [
    "##  Question 3) Plotting\n"
   ]
  },
  {
   "cell_type": "markdown",
   "id": "64710fbc",
   "metadata": {},
   "source": [
    "This exercise is on creating a basic plot with python\n",
    "using matplotlib https://matplotlib.org"
   ]
  },
  {
   "cell_type": "markdown",
   "id": "2bea7c26",
   "metadata": {},
   "source": [
    "In table there are some stock prices for Facebook Inc for\n",
    "a few dates in 2021 obtained from https://uk.investing.com/equities/facebook-inc-historical-data\n",
    "\n",
    "Date      | Stock price USD \n",
    "----------|---------------------\n",
    "11-Oct-21 |  325.65 \n",
    "8-Oct-21  | 330.05 \n",
    "7-Oct-21  | 329.22 \n",
    "6-Oct-21  | 333.64 \n",
    "5-Oct-21  |332.96\n",
    "4-Oct-21  | 326.23\n",
    "1-Oct-21  | 343.01 \n",
    "\n",
    "\n",
    "Create a plot of the Facebook stock price as a function of year. The final plot should like that:\n",
    "\n"
   ]
  },
  {
   "cell_type": "markdown",
   "id": "56401f51",
   "metadata": {},
   "source": [
    "The python code below may be useful and you should run it first. Then you should copy the above table into the lists."
   ]
  },
  {
   "cell_type": "code",
   "execution_count": 7,
   "id": "9e8d7603",
   "metadata": {},
   "outputs": [
    {
     "data": {
      "image/png": "[encoded data removed]",
      "text/plain": [
       "<Figure size 432x288 with 1 Axes>"
      ]
     },
     "metadata": {
      "needs_background": "light"
     },
     "output_type": "display_data"
    }
   ],
   "source": [
    "# modify the cell to create your solution\n",
    "import matplotlib.pyplot as plt\n",
    "import numpy as np\n",
    "# values of x and y axes\n",
    "x = [5, 10, 15, 20 ]\n",
    "y = [1, 4, 3, 2  ]\n",
    "\n",
    "tt = [ \"A\" , \"B\" , \"C\" , \"D\" ] \n",
    " \n",
    "plt.plot(x, y, 'bo')\n",
    "plt.xlabel('x')\n",
    "plt.ylabel('y')\n",
    "plt.xticks(x, tt)\n",
    "plt.show()\n"
   ]
  },
  {
   "cell_type": "code",
   "execution_count": 6,
   "id": "ee787710",
   "metadata": {},
   "outputs": [
    {
     "data": {
      "image/png": "[encoded data removed]",
      "text/plain": [
       "<Figure size 432x288 with 1 Axes>"
      ]
     },
     "metadata": {
      "needs_background": "light"
     },
     "output_type": "display_data"
    }
   ],
   "source": [
    "#  solution\n",
    "import matplotlib.pyplot as plt\n",
    "\n",
    "day = [ \"11-Oct-21\" , \"8-Oct-21\",  \"7-Oct-21\", \"6-Oct-21\", \"5-Oct-21\", \"4-Oct-21\", \"1-Oct-21\" ]\n",
    "\n",
    "fb_share = [325.65 , 330.05, 329.22, 333.64, 332.96, 326.23, 343.01]\n",
    "x = [ 6 , 5 , 4 , 3 , 2 , 1 , 0 ]\n",
    " \n",
    "plt.plot(x,fb_share , 'bo')\n",
    "plt.ylabel('Stock price USD')\n",
    "plt.title(\"Share price of Facebook \")\n",
    " \n",
    "plt.xticks(x, day)\n",
    "plt.show()\n"
   ]
  },
  {
   "cell_type": "markdown",
   "id": "524662b3",
   "metadata": {},
   "source": [
    "## Question3 (plotting)\n",
    "\n",
    "Create a pie graph for the data below from a small survey of a groups favourite's type of film\n",
    "\n",
    "Comedy | Action | Romance | Drama  | SciFi\n",
    "-------|--------|---------|--------|--------\n",
    " 4     |  7     | 3       | 2      | 4\n",
    "\n",
    "\n",
    "\n",
    "Copy the example code from https://matplotlib.org/stable/gallery/pie_and_polar_charts/pie_features.html#sphx-glr-gallery-pie-and-polar-charts-pie-features-py  and modify it to create the pie chart"
   ]
  },
  {
   "cell_type": "code",
   "execution_count": 10,
   "id": "b3688346",
   "metadata": {},
   "outputs": [
    {
     "data": {
      "image/png": "[encoded data removed]",
      "text/plain": [
       "<Figure size 432x288 with 1 Axes>"
      ]
     },
     "metadata": {},
     "output_type": "display_data"
    }
   ],
   "source": [
    "#  put your solution here\n",
    "import matplotlib.pyplot as plt\n",
    "\n",
    "# Pie chart, where the slices will be ordered and plotted counter-clockwise:\n",
    "\n",
    "#labels = 'Frogs', 'Hogs', 'Dogs', 'Logs'\n",
    "#sizes = [15, 30, 45, 10]\n",
    "\n",
    "labels = 'Comedy', 'Action', 'Romance', 'Drama', 'SciFi'\n",
    "sizes = [4, 7, 3, 2, 4]\n",
    "\n",
    "explode = (0, 0.0, 0, 0, 0)  # only \"explode\" the 2nd slice (i.e. 'Hogs')\n",
    "\n",
    "fig1, ax1 = plt.subplots()\n",
    "ax1.pie(sizes, explode=explode, labels=labels, autopct='%1.1f%%',\n",
    "        shadow=True, startangle=90)\n",
    "ax1.axis('equal')  # Equal aspect ratio ensures that pie is drawn as a circle.\n",
    "\n",
    "plt.show()\n"
   ]
  },
  {
   "cell_type": "markdown",
   "id": "84b9ba40",
   "metadata": {},
   "source": [
    "##  Advanced Question 4  (Data cleaning)"
   ]
  },
  {
   "cell_type": "markdown",
   "id": "f52f1f97",
   "metadata": {},
   "source": [
    "Plymouth County Council makes available many data sets.\n",
    "In this example I want you to use the csv file\n",
    "from https://plymouth.thedata.place/dataset/household-waste.\n",
    "This has data comparing the percentage of houshold recycling done in Plymouth compared\n",
    "to all of England."
   ]
  },
  {
   "cell_type": "markdown",
   "id": "aca0b586",
   "metadata": {},
   "source": [
    "Download the csv file. I want you write a python script to read the\n",
    "csv file (resources_2dadd739-84df-421f-b621-b6650ebbbf22_household-waste.csv), clean up the data, and make a plot of the year versus\n",
    "percentage recycling in Plymouth and England.  The final plot should look\n",
    "like this.\n",
    "\n",
    "\n",
    "Below is a rough plan of how to approach the writing the script.\n",
    "\n",
    "* Read the file using the example code below. \n",
    "* Use the string manipulations tools to get rid of the additional\n",
    "  words. The solution in question 1a may be useful.\n",
    "* Convert some of the final strings into integers and floats, using python functions such as **int**.\n",
    "* Use some of the code I showed in lecture 3 to create the final plot. See also https://matplotlib.org/.\n",
    "\n",
    "For a csv file of this size, you could clean it up by hand. The\n",
    "techniques you will develop here are useful for much bigger data sets.\n",
    "\n"
   ]
  },
  {
   "cell_type": "code",
   "execution_count": null,
   "id": "87c7780f",
   "metadata": {},
   "outputs": [],
   "source": [
    "# modify the cell to create your solution\n",
    "import csv\n",
    "import matplotlib.pyplot as plt\n",
    "\n",
    "name = \"resources_2dadd739-84df-421f-b621-b6650ebbbf22_household-waste.csv\"\n",
    "print(\"Reading from \" , name)\n",
    "\n",
    "with open(name) as csvfile:\n",
    "    readCSV = csv.reader(csvfile, delimiter=',')\n",
    "    for row in readCSV:\n",
    "      if \"England\" in row[0] :\n",
    "        england_data = row\n",
    "        print(\"England \", row)\n",
    "      elif \"Plymouth\" in row[0] :\n",
    "        print(\"Plymouth\" , row)\n",
    "        plymouth_data = row\n",
    "      else:\n",
    "         year = row\n"
   ]
  },
  {
   "cell_type": "code",
   "execution_count": 11,
   "id": "c1124719",
   "metadata": {},
   "outputs": [
    {
     "name": "stdout",
     "output_type": "stream",
     "text": [
      "Reading from  resources_2dadd739-84df-421f-b621-b6650ebbbf22_household-waste.csv\n",
      "Start of analysis\n"
     ]
    },
    {
     "data": {
      "image/png": "[encoded data removed]",
      "text/plain": [
       "<Figure size 432x288 with 1 Axes>"
      ]
     },
     "metadata": {
      "needs_background": "light"
     },
     "output_type": "display_data"
    }
   ],
   "source": [
    "#  Solution\n",
    "\n",
    "import csv\n",
    "import matplotlib.pyplot as plt\n",
    "\n",
    "name = \"resources_2dadd739-84df-421f-b621-b6650ebbbf22_household-waste.csv\"\n",
    "print(\"Reading from \" , name)\n",
    "\n",
    "with open(name) as csvfile:\n",
    "    readCSV = csv.reader(csvfile, delimiter=',')\n",
    "    for row in readCSV:\n",
    "      if \"England\" in row[0] :\n",
    "         england = row\n",
    "      elif \"Plymouth\" in row[0] :\n",
    "         plymouth = row\n",
    "      else:\n",
    "         year = row\n",
    "\n",
    "print(\"Start of analysis\")\n",
    "\n",
    "\n",
    "def get_percentage(data) :\n",
    "  ans_r = [] \n",
    "  for x in data[1:-1] :\n",
    "     xx = x.replace(\"%\" , \"\")\n",
    "     ans_r.append(float(xx))\n",
    "  return ans_r\n",
    "\n",
    "England_r = get_percentage(england)\n",
    "Plymouth_r = get_percentage(plymouth)\n",
    "\n",
    "year_ = [] \n",
    "for x in year[1:-1] :\n",
    "     xx = x.replace(\"Total Percentage of Recycling during Financial Year \" , \"\")\n",
    "     xxx = xx[0:4]\n",
    "     year_.append(int(xxx))\n",
    "\n",
    "\n",
    "plt.plot(year_, England_r, \"ro\", label=\"England\")\n",
    "plt.plot(year_, Plymouth_r, \"go\", label=\"Plymouth\")\n",
    "\n",
    "plt.legend()\n",
    "plt.xlabel(\"Year\")\n",
    "plt.ylabel(\"% Recycling\")\n",
    "plt.title(\"Recycling in Plymouth compared to England\")\n",
    "plt.show()"
   ]
  },
  {
   "cell_type": "markdown",
   "id": "38a7cd36",
   "metadata": {},
   "source": [
    "The final plot should look like\n",
    "\n",
    "What do you conclude from the plot about recycling in Plymouth?\n",
    "\n",
    "![](https://github.com/cmcneile/COMP5000-2022-labs/blob/main/recycling.png?raw=true)"
   ]
  },
  {
   "cell_type": "code",
   "execution_count": null,
   "id": "2765cd5c",
   "metadata": {},
   "outputs": [],
   "source": []
  }
 ],
 "metadata": {
  "kernelspec": {
   "display_name": "Python 3 (ipykernel)",
   "language": "python",
   "name": "python3"
  },
  "language_info": {
   "codemirror_mode": {
    "name": "ipython",
    "version": 3
   },
   "file_extension": ".py",
   "mimetype": "text/x-python",
   "name": "python",
   "nbconvert_exporter": "python",
   "pygments_lexer": "ipython3",
   "version": "3.10.0"
  }
 },
 "nbformat": 4,
 "nbformat_minor": 5
}
